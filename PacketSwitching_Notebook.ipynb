{
 "cells": [
  {
   "cell_type": "markdown",
   "metadata": {},
   "source": [
    "# Packet Switching"
   ]
  },
  {
   "cell_type": "markdown",
   "metadata": {},
   "source": [
    "**Put your names in the cell below **\n"
   ]
  },
  {
   "cell_type": "markdown",
   "metadata": {},
   "source": [
    "Mikyung Han\n",
    "\n"
   ]
  },
  {
   "cell_type": "markdown",
   "metadata": {},
   "source": [
    "### Question 1\n",
    "<img width=700 src=\"https://www.cs.utexas.edu/~mhan/courses/cs356/fa21/figures/Packet%20Switching%20Question%201.png\">\n",
    "<p>&nbsp;</p>\n",
    "\n",
    "#### Q1-1\n",
    "In the cell below, write some python3 code to solve above question. You can run bellow code by selecting the cell and going to Run -> Run Selected Cell (Or simply Shift + Enter for shortcut). When you do that, it will output 3 now, which you should get rid of and replace it with your code code. (You may want to use supporting library such as scipy, numpy, etc)"
   ]
  },
  {
   "cell_type": "code",
   "execution_count": 13,
   "metadata": {},
   "outputs": [
    {
     "name": "stdout",
     "output_type": "stream",
     "text": [
      "11 1.0000000000000006e-11\n",
      "12 1.0900000000000006e-10\n",
      "13 6.436000000000003e-10\n",
      "14 2.7285400000000022e-09\n",
      "15 9.296101000000005e-09\n",
      "16 2.7028515700000016e-08\n",
      "17 6.958631098000006e-08\n",
      "18 1.6260549209200017e-07\n",
      "19 3.509693338438003e-07\n",
      "20 7.088606331722206e-07\n",
      "21 1.353064971963377e-06\n",
      "22 2.4599251540681827e-06\n",
      "23 4.286244454541113e-06\n",
      "24 7.19430672529416e-06\n",
      "25 1.1681031371598865e-05\n",
      "26 1.8411118341055922e-05\n",
      "27 2.825387053388686e-05\n",
      "28 4.232321631540404e-05\n",
      "29 6.202030040952807e-05\n",
      "30 8.907787382303532e-05\n",
      "31 0.00012560559793127005\n",
      "final answer is 30\n"
     ]
    }
   ],
   "source": [
    "#uncomment below code and run this cell\n",
    "from scipy.special import comb\n",
    "#comb(5, 2) #computes 5 choose 2 should print 10.0 in below cell\n",
    "\n",
    "#n = total number of users in the system\n",
    "#k is the total number active users\n",
    "#P(k) is the probability that k out of n people talking at the same time \n",
    "#P(k) = n Choose k * (0.1)^k * (0.9)^(n-k)\n",
    "#When k > 10, k = 11, 12, 13, .... n, there are error\n",
    "#find the max n such that \n",
    "#P(11)+P(12)+P(13)+...+P(n-1)+P(n) < 0.0001\n",
    "for n in range(11, 100): # 100 is just an arbitrary big number\n",
    "    p_err = 0;\n",
    "    for k in range(11, n+1):\n",
    "        p_err += comb(n,k) * pow(0.1,k) * pow(0.9, n-k) #calculates P(11)+P(12)+...+P(n-1)+P(n)\n",
    "    print(str(n) + ' ' + str(p_err)) # prints the probabability of error when there are n users in the system\n",
    "    if p_err >= 0.0001:\n",
    "        break\n",
    "print('final answer is ' + str(n-1))"
   ]
  },
  {
   "cell_type": "markdown",
   "metadata": {},
   "source": [
    "\n",
    "\n",
    "\n",
    "\n",
    "\n",
    "\n",
    "\n"
   ]
  },
  {
   "cell_type": "markdown",
   "metadata": {},
   "source": [
    "#### Q1-2\n",
    "What is the final answer? Put your answer in the cell below."
   ]
  },
  {
   "cell_type": "markdown",
   "metadata": {},
   "source": [
    "30"
   ]
  },
  {
   "cell_type": "markdown",
   "metadata": {},
   "source": [
    "#### Q1-3\n",
    "What are the pros and cons of packet-switching? What are the pros and cons of circuit-switching? Put your answer in the cell below."
   ]
  },
  {
   "cell_type": "markdown",
   "metadata": {},
   "source": [
    "Packet switching\n",
    "+ better resource sharing for more number of users\n",
    "+ good for bursty packets\n",
    "+ no call setup\n",
    "- hard to gaurantee quality of service or even delivery of packet"
   ]
  },
  {
   "cell_type": "markdown",
   "metadata": {},
   "source": [
    "Circit switching\n",
    "- call setup required\n",
    "+ higher quality of service gauranteed\n",
    "+ idle time: the resource is wasted"
   ]
  },
  {
   "cell_type": "markdown",
   "metadata": {},
   "source": [
    "### Question 2 Packet Switching and Message Segmentation\n",
    "\n",
    "In modern packet-switched networks, including the Internet, the source host segments long, application-layer messages (for example, an image or a music file) into smaller packets and sends the packets into the network. The receiver then reassembles the packets back into the original message. We refer to this process as message segmentation. Figure 1.27 illustrates the end-to-end transport of a message with and without message segmentation. Consider a message that is $10^6$ bits long that is to be sent from source to destination in Figure 1.27. Suppose each link in the figure has the transmission rate of 5 Mbps. Ignore propagation, queuing, and processing delays.\n",
    "\n",
    "<img width=500 src=\"https://www.cs.utexas.edu/~mhan/courses/cs356/fa21/figures/figure1-27.png\">"
   ]
  },
  {
   "cell_type": "markdown",
   "metadata": {},
   "source": [
    "#### Q2-1. \n",
    "Consider sending the message from source to destination without message segmentation. How long does it take to move the message from the source host to the first packet switch? Keeping in mind that each switch uses store-and-forward packet switching, what is the total time to move the message from source host to destination host? Write both the equation(s) and the answer(s) in below cell."
   ]
  },
  {
   "cell_type": "markdown",
   "metadata": {},
   "source": [
    "1000000/5000000 = 0.2 sec. 0.2 sec x 3 hop = 0.6 sec."
   ]
  },
  {
   "cell_type": "markdown",
   "metadata": {},
   "source": [
    "#### Q2-2.\n",
    "Now suppose that the message is segmented into 100 packets, with each packet being 10,000 bits long. How long does it take to move the first packet from source host to the first switch? When the first packet is being sent from the first switch to the second switch, the second packet is being sent from the source host to the first switch. At what time will the second packet be fully received at the first switch? Write both the equation(s) and the answer(s) in below cell."
   ]
  },
  {
   "cell_type": "markdown",
   "metadata": {},
   "source": [
    "10000/5000000 = 0.002 sec. 0.002 sec + 0.002 sec = 0.004 sec."
   ]
  },
  {
   "cell_type": "markdown",
   "metadata": {},
   "source": [
    "#### Q2-3.\n",
    "How long does it take to move the file from source host to destination host when message segmentation is used? Compare this result with your answer in part (a) and comment."
   ]
  },
  {
   "cell_type": "markdown",
   "metadata": {},
   "source": [
    "The first packet will arrive at the destination at 0.002 x 3 = 0.006 sec. The second packet will arrive 0.002 sec later than the first packet. The third packet will arrive 0.002 sec later than the second packet, etc. \n",
    "\n",
    "2: 0.006 + 0.002\n",
    "3: 0.006 + 0.002 + 0.002\n",
    "4: 0.006 + 0.002 + 0.002 + 0.002\n",
    "100: 0.006 + 0.002 * 99 = \n",
    "The 100th packet will arrive 0.006 sec + 99 * 0.002 sec = 0.204 sec. Comparing with Q2-1, this is 1/3. "
   ]
  },
  {
   "cell_type": "markdown",
   "metadata": {},
   "source": [
    "#### Q2-4.\n",
    "In addition to reducing delay, what are reasons to use message segmentation? Put your answer in the cell below."
   ]
  },
  {
   "cell_type": "markdown",
   "metadata": {},
   "source": [
    "Without message segmentation, if bit errors are not tolerated, if there is a single bit error, the whole message has to be retransmitted (rather than a single packet).\n",
    "Without message segmentation, huge packets (containing HD videos, for example) are sent into the network. Routers have to accommodate these huge packets. Smaller packets have to queue behind enormous packets and suffer unfair delays. \n"
   ]
  },
  {
   "cell_type": "markdown",
   "metadata": {},
   "source": [
    "#### Q2-5. \n",
    "What are the drawbacks of message segmentation? Put your answer in the cell below."
   ]
  },
  {
   "cell_type": "markdown",
   "metadata": {},
   "source": [
    "Header overhead. Packet reordering can happen.\n",
    "Packets have to be put in sequence at the destination.\n",
    "Message segmentation results in many smaller packets. Since header size is usually the same for all packets regardless of their size, with message segmentation the total amount of header bytes is more.\n"
   ]
  },
  {
   "cell_type": "markdown",
   "metadata": {},
   "source": [
    "### Question 3 - Packet Switching vs Message Switching\n",
    "\n",
    "How do link propagation delays affect the overall end-to-end delay for packet switching (with message segmentation) and for message switching? You may play around with [this interactive animations](https://media.pearsoncmg.com/ph/esm/ecs_kurose_compnetwork_8/cw/content/interactiveanimations/message-segmentation/index.html) to answer.\n",
    "\n",
    "Write your answer in the cell below.\n"
   ]
  },
  {
   "cell_type": "markdown",
   "metadata": {},
   "source": [
    "The propagation delays affect the overall end-to-end delays both for packet switching and message switching equally."
   ]
  },
  {
   "cell_type": "markdown",
   "metadata": {},
   "source": [
    "\n",
    "\n",
    "\n"
   ]
  },
  {
   "cell_type": "markdown",
   "metadata": {},
   "source": [
    "## Submission \n",
    "\n",
    "**Remember to \"Save the Notebook\" (from the \"File\" menu above). You can \"Shutdown\" to finish**\n",
    "Push this updated notebook to your github team repo and put the URL of the repo to the breakout room document. "
   ]
  }
 ],
 "metadata": {
  "kernelspec": {
   "display_name": "Python 3",
   "language": "python",
   "name": "python3"
  },
  "language_info": {
   "codemirror_mode": {
    "name": "ipython",
    "version": 3
   },
   "file_extension": ".py",
   "mimetype": "text/x-python",
   "name": "python",
   "nbconvert_exporter": "python",
   "pygments_lexer": "ipython3",
   "version": "3.9.1"
  }
 },
 "nbformat": 4,
 "nbformat_minor": 4
}
